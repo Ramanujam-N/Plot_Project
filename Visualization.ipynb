{
  "cells": [
    {
      "cell_type": "code",
      "execution_count": 2,
      "metadata": {
        "colab": {
          "base_uri": "https://localhost:8080/",
          "height": 290
        },
        "id": "PZznRnCU9znQ",
        "outputId": "4096da88-b249-4a55-c5e9-456d64588982"
      },
      "outputs": [
        {
          "data": {
            "text/html": [
              "<div>\n",
              "<style scoped>\n",
              "    .dataframe tbody tr th:only-of-type {\n",
              "        vertical-align: middle;\n",
              "    }\n",
              "\n",
              "    .dataframe tbody tr th {\n",
              "        vertical-align: top;\n",
              "    }\n",
              "\n",
              "    .dataframe thead th {\n",
              "        text-align: right;\n",
              "    }\n",
              "</style>\n",
              "<table border=\"1\" class=\"dataframe\">\n",
              "  <thead>\n",
              "    <tr style=\"text-align: right;\">\n",
              "      <th></th>\n",
              "      <th>Sector</th>\n",
              "      <th>Year</th>\n",
              "      <th>Month</th>\n",
              "      <th>Cereals and products</th>\n",
              "      <th>Meat and fish</th>\n",
              "      <th>Egg</th>\n",
              "      <th>Milk and products</th>\n",
              "      <th>Oils and fats</th>\n",
              "      <th>Fruits</th>\n",
              "      <th>Vegetables</th>\n",
              "      <th>...</th>\n",
              "      <th>Housing</th>\n",
              "      <th>Fuel and light</th>\n",
              "      <th>Household goods and services</th>\n",
              "      <th>Health</th>\n",
              "      <th>Transport and communication</th>\n",
              "      <th>Recreation and amusement</th>\n",
              "      <th>Education</th>\n",
              "      <th>Personal care and effects</th>\n",
              "      <th>Miscellaneous</th>\n",
              "      <th>General index</th>\n",
              "    </tr>\n",
              "  </thead>\n",
              "  <tbody>\n",
              "    <tr>\n",
              "      <th>0</th>\n",
              "      <td>Rural</td>\n",
              "      <td>2013</td>\n",
              "      <td>January</td>\n",
              "      <td>107.5</td>\n",
              "      <td>106.3</td>\n",
              "      <td>108.1</td>\n",
              "      <td>104.9</td>\n",
              "      <td>106.1</td>\n",
              "      <td>103.9</td>\n",
              "      <td>101.9</td>\n",
              "      <td>...</td>\n",
              "      <td>NaN</td>\n",
              "      <td>105.5</td>\n",
              "      <td>104.8</td>\n",
              "      <td>104.0</td>\n",
              "      <td>103.3</td>\n",
              "      <td>103.4</td>\n",
              "      <td>103.8</td>\n",
              "      <td>104.7</td>\n",
              "      <td>104.0</td>\n",
              "      <td>105.1</td>\n",
              "    </tr>\n",
              "    <tr>\n",
              "      <th>1</th>\n",
              "      <td>Urban</td>\n",
              "      <td>2013</td>\n",
              "      <td>January</td>\n",
              "      <td>110.5</td>\n",
              "      <td>109.1</td>\n",
              "      <td>113.0</td>\n",
              "      <td>103.6</td>\n",
              "      <td>103.4</td>\n",
              "      <td>102.3</td>\n",
              "      <td>102.9</td>\n",
              "      <td>...</td>\n",
              "      <td>100.3</td>\n",
              "      <td>105.4</td>\n",
              "      <td>104.8</td>\n",
              "      <td>104.1</td>\n",
              "      <td>103.2</td>\n",
              "      <td>102.9</td>\n",
              "      <td>103.5</td>\n",
              "      <td>104.3</td>\n",
              "      <td>103.7</td>\n",
              "      <td>104.0</td>\n",
              "    </tr>\n",
              "    <tr>\n",
              "      <th>2</th>\n",
              "      <td>Rural+Urban</td>\n",
              "      <td>2013</td>\n",
              "      <td>January</td>\n",
              "      <td>108.4</td>\n",
              "      <td>107.3</td>\n",
              "      <td>110.0</td>\n",
              "      <td>104.4</td>\n",
              "      <td>105.1</td>\n",
              "      <td>103.2</td>\n",
              "      <td>102.2</td>\n",
              "      <td>...</td>\n",
              "      <td>100.3</td>\n",
              "      <td>105.5</td>\n",
              "      <td>104.8</td>\n",
              "      <td>104.0</td>\n",
              "      <td>103.2</td>\n",
              "      <td>103.1</td>\n",
              "      <td>103.6</td>\n",
              "      <td>104.5</td>\n",
              "      <td>103.9</td>\n",
              "      <td>104.6</td>\n",
              "    </tr>\n",
              "    <tr>\n",
              "      <th>3</th>\n",
              "      <td>Rural</td>\n",
              "      <td>2013</td>\n",
              "      <td>February</td>\n",
              "      <td>109.2</td>\n",
              "      <td>108.7</td>\n",
              "      <td>110.2</td>\n",
              "      <td>105.4</td>\n",
              "      <td>106.7</td>\n",
              "      <td>104.0</td>\n",
              "      <td>102.4</td>\n",
              "      <td>...</td>\n",
              "      <td>NaN</td>\n",
              "      <td>106.2</td>\n",
              "      <td>105.2</td>\n",
              "      <td>104.4</td>\n",
              "      <td>103.9</td>\n",
              "      <td>104.0</td>\n",
              "      <td>104.1</td>\n",
              "      <td>104.6</td>\n",
              "      <td>104.4</td>\n",
              "      <td>105.8</td>\n",
              "    </tr>\n",
              "    <tr>\n",
              "      <th>4</th>\n",
              "      <td>Urban</td>\n",
              "      <td>2013</td>\n",
              "      <td>February</td>\n",
              "      <td>112.9</td>\n",
              "      <td>112.9</td>\n",
              "      <td>116.9</td>\n",
              "      <td>104.0</td>\n",
              "      <td>103.5</td>\n",
              "      <td>103.1</td>\n",
              "      <td>104.9</td>\n",
              "      <td>...</td>\n",
              "      <td>100.4</td>\n",
              "      <td>105.7</td>\n",
              "      <td>105.2</td>\n",
              "      <td>104.7</td>\n",
              "      <td>104.4</td>\n",
              "      <td>103.3</td>\n",
              "      <td>103.7</td>\n",
              "      <td>104.3</td>\n",
              "      <td>104.3</td>\n",
              "      <td>104.7</td>\n",
              "    </tr>\n",
              "  </tbody>\n",
              "</table>\n",
              "<p>5 rows × 30 columns</p>\n",
              "</div>"
            ],
            "text/plain": [
              "        Sector  Year     Month  Cereals and products  Meat and fish    Egg  \\\n",
              "0        Rural  2013   January                 107.5          106.3  108.1   \n",
              "1        Urban  2013   January                 110.5          109.1  113.0   \n",
              "2  Rural+Urban  2013   January                 108.4          107.3  110.0   \n",
              "3        Rural  2013  February                 109.2          108.7  110.2   \n",
              "4        Urban  2013  February                 112.9          112.9  116.9   \n",
              "\n",
              "   Milk and products  Oils and fats  Fruits  Vegetables  ...  Housing  \\\n",
              "0              104.9          106.1   103.9       101.9  ...      NaN   \n",
              "1              103.6          103.4   102.3       102.9  ...    100.3   \n",
              "2              104.4          105.1   103.2       102.2  ...    100.3   \n",
              "3              105.4          106.7   104.0       102.4  ...      NaN   \n",
              "4              104.0          103.5   103.1       104.9  ...    100.4   \n",
              "\n",
              "   Fuel and light  Household goods and services  Health  \\\n",
              "0           105.5                         104.8   104.0   \n",
              "1           105.4                         104.8   104.1   \n",
              "2           105.5                         104.8   104.0   \n",
              "3           106.2                         105.2   104.4   \n",
              "4           105.7                         105.2   104.7   \n",
              "\n",
              "   Transport and communication  Recreation and amusement  Education  \\\n",
              "0                        103.3                     103.4      103.8   \n",
              "1                        103.2                     102.9      103.5   \n",
              "2                        103.2                     103.1      103.6   \n",
              "3                        103.9                     104.0      104.1   \n",
              "4                        104.4                     103.3      103.7   \n",
              "\n",
              "   Personal care and effects  Miscellaneous  General index  \n",
              "0                      104.7          104.0          105.1  \n",
              "1                      104.3          103.7          104.0  \n",
              "2                      104.5          103.9          104.6  \n",
              "3                      104.6          104.4          105.8  \n",
              "4                      104.3          104.3          104.7  \n",
              "\n",
              "[5 rows x 30 columns]"
            ]
          },
          "execution_count": 2,
          "metadata": {},
          "output_type": "execute_result"
        }
      ],
      "source": [
        "import pandas as pd\n",
        "import matplotlib.pyplot as plt\n",
        "\n",
        "df = pd.read_csv('data1.csv')"
      ]
    },
    {
      "cell_type": "code",
      "execution_count": 13,
      "metadata": {
        "colab": {
          "base_uri": "https://localhost:8080/",
          "height": 1000
        },
        "id": "En4o8_bS-UM4",
        "outputId": "24484cea-0d16-482d-e6f4-61c4fb3add32"
      },
      "outputs": [
        {
          "data": {
            "image/png": "[encoded data removed]",
            "text/plain": [
              "<Figure size 432x288 with 1 Axes>"
            ]
          },
          "metadata": {
            "needs_background": "light"
          },
          "output_type": "display_data"
        }
      ],
      "source": [
        "plt.scatter(df['Year'], df['Education'])\n",
        "plt.xlabel('Year')\n",
        "plt.ylabel('Education')\n",
        "plt.title('Scatter plot of Yr vs Edu')\n",
        "plt.savefig('./Education_scatter.png')\n",
        "plt.show()"
      ]
    },
    {
      "cell_type": "code",
      "execution_count": 4,
      "metadata": {
        "id": "VMdC_j5J-y5C"
      },
      "outputs": [],
      "source": [
        "df_cleaned = df.dropna(subset=['Cereals and products', 'Meat and fish', 'Vegetables', 'Health','Education'])"
      ]
    },
    {
      "cell_type": "code",
      "execution_count": 12,
      "metadata": {
        "colab": {
          "base_uri": "https://localhost:8080/",
          "height": 692
        },
        "id": "RVwVjeXvAOwh",
        "outputId": "9f17e06f-e92e-4688-e48c-8f3aba901786"
      },
      "outputs": [
        {
          "data": {
            "image/png": "[encoded data removed]",
            "text/plain": [
              "<Figure size 720x360 with 2 Axes>"
            ]
          },
          "metadata": {
            "needs_background": "light"
          },
          "output_type": "display_data"
        }
      ],
      "source": [
        "fig, axes = plt.subplots(nrows=1, ncols=2, figsize=(10,5))\n",
        "\n",
        "axes[0].boxplot(df_cleaned['Meat and fish'], showfliers=False)\n",
        "axes[0].set_title('Meat and fish')\n",
        "\n",
        "axes[1].boxplot(df_cleaned['Education'], showfliers=False)\n",
        "axes[1].set_title('Education')\n",
        "plt.tight_layout()\n",
        "plt.savefig('./box_plot.png')\n",
        "plt.show()\n"
      ]
    },
    {
      "cell_type": "code",
      "execution_count": 14,
      "metadata": {
        "colab": {
          "base_uri": "https://localhost:8080/",
          "height": 1000
        },
        "id": "tOgTcAFhBky6",
        "outputId": "7d5a4c9c-2e48-4d2e-f360-477d92d25482"
      },
      "outputs": [
        {
          "data": {
            "image/png": "[encoded data removed]",
            "text/plain": [
              "<Figure size 432x288 with 1 Axes>"
            ]
          },
          "metadata": {
            "needs_background": "light"
          },
          "output_type": "display_data"
        }
      ],
      "source": [
        "yearly_avg = df.groupby('Year')['Meat and fish'].mean()\n",
        "\n",
        "yearly_avg.plot(kind='line')\n",
        "plt.xlabel('Year')\n",
        "plt.ylabel('Meat and fish (Average)')\n",
        "plt.title('Line plot of Year vs Meat and fish on avg')\n",
        "plt.savefig('./line_plot_meatfish.png')\n",
        "plt.show()\n"
      ]
    }
  ],
  "metadata": {
    "colab": {
      "provenance": []
    },
    "kernelspec": {
      "display_name": "Python 3",
      "name": "python3"
    },
    "language_info": {
      "codemirror_mode": {
        "name": "ipython",
        "version": 3
      },
      "file_extension": ".py",
      "mimetype": "text/x-python",
      "name": "python",
      "nbconvert_exporter": "python",
      "pygments_lexer": "ipython3",
      "version": "3.7.13"
    }
  },
  "nbformat": 4,
  "nbformat_minor": 0
}
